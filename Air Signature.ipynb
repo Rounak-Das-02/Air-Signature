{
 "cells": [
  {
   "cell_type": "code",
   "execution_count": 1,
   "id": "6afd4e67",
   "metadata": {},
   "outputs": [],
   "source": [
    "import cv2\n",
    "import mediapipe as mp\n",
    "import numpy"
   ]
  },
  {
   "cell_type": "code",
   "execution_count": 2,
   "id": "4924af7d",
   "metadata": {},
   "outputs": [],
   "source": [
    "mp_drawing = mp.solutions.drawing_utils\n",
    "mp_drawing_styles = mp.solutions.drawing_styles\n",
    "mp_hands = mp.solutions.hands"
   ]
  },
  {
   "cell_type": "code",
   "execution_count": 3,
   "id": "e37143cd",
   "metadata": {},
   "outputs": [
    {
     "name": "stderr",
     "output_type": "stream",
     "text": [
      "INFO: Created TensorFlow Lite XNNPACK delegate for CPU.\n"
     ]
    }
   ],
   "source": [
    "cap = cv2.VideoCapture(0)\n",
    "with mp_hands.Hands(\n",
    "    max_num_hands=2, \n",
    "    min_detection_confidence=0.5,\n",
    "    min_tracking_confidence=0.8) as hands:\n",
    "      while cap.isOpened():\n",
    "        success, image = cap.read()\n",
    "        if not success:\n",
    "              print(\"Ignoring empty camera frame.\")\n",
    "              # If loading a video, use 'break' instead of 'continue'.\n",
    "              break\n",
    "        image = cv2.resize(image, (1080,720))\n",
    "\n",
    "        image = cv2.cvtColor(cv2.flip(image, 1), cv2.COLOR_BGR2RGB)\n",
    "        # To improve performance, optionally mark the image as not writeable to\n",
    "        # pass by reference.\n",
    "        image.flags.writeable = False\n",
    "        results = hands.process(image)\n",
    "\n",
    "        # Draw the hand annotations on the image.\n",
    "        image.flags.writeable = True\n",
    "        image = cv2.cvtColor(image, cv2.COLOR_RGB2BGR)\n",
    "        if results.multi_hand_landmarks:\n",
    "            for num, hand in enumerate(results.multi_hand_landmarks):\n",
    "#                 center_coordinates = (int(hand.landmark[mp_hands.HandLandmark.INDEX_FINGER_TIP].x * 1080), int(hand.landmark[mp_hands.HandLandmark.INDEX_FINGER_TIP].y * 720))\n",
    "#                 image = cv2.circle(image, center_coordinates, 3, (255,255,0), 10)\n",
    "                mp_drawing.draw_landmarks(image, hand, mp_hands.HAND_CONNECTIONS)\n",
    "\n",
    "        cv2.imshow('MediaPipe Hands', image)\n",
    "        if cv2.waitKey(5) & 0xFF == 27:\n",
    "              break\n",
    "cap.release()\n",
    "cv2.destroyAllWindows()\n",
    "    "
   ]
  },
  {
   "cell_type": "code",
   "execution_count": 6,
   "id": "c0439bfe",
   "metadata": {},
   "outputs": [
    {
     "ename": "TypeError",
     "evalue": "'NoneType' object is not iterable",
     "output_type": "error",
     "traceback": [
      "\u001b[0;31m---------------------------------------------------------------------------\u001b[0m",
      "\u001b[0;31mTypeError\u001b[0m                                 Traceback (most recent call last)",
      "\u001b[0;32m/tmp/ipykernel_12536/386068144.py\u001b[0m in \u001b[0;36m<module>\u001b[0;34m\u001b[0m\n\u001b[0;32m----> 1\u001b[0;31m \u001b[0;32mfor\u001b[0m \u001b[0mi\u001b[0m \u001b[0;32min\u001b[0m \u001b[0mresults\u001b[0m\u001b[0;34m.\u001b[0m\u001b[0mmulti_hand_landmarks\u001b[0m\u001b[0;34m:\u001b[0m\u001b[0;34m\u001b[0m\u001b[0;34m\u001b[0m\u001b[0m\n\u001b[0m\u001b[1;32m      2\u001b[0m     \u001b[0mprint\u001b[0m\u001b[0;34m(\u001b[0m\u001b[0mi\u001b[0m\u001b[0;34m.\u001b[0m\u001b[0mlandmark\u001b[0m\u001b[0;34m)\u001b[0m\u001b[0;34m\u001b[0m\u001b[0;34m\u001b[0m\u001b[0m\n",
      "\u001b[0;31mTypeError\u001b[0m: 'NoneType' object is not iterable"
     ]
    }
   ],
   "source": [
    "for i in results.multi_hand_landmarks:\n",
    "    print(i.landmark)"
   ]
  },
  {
   "cell_type": "code",
   "execution_count": 7,
   "id": "7580922c",
   "metadata": {},
   "outputs": [
    {
     "name": "stdout",
     "output_type": "stream",
     "text": [
      "HandLandmark.WRIST\n",
      "HandLandmark.THUMB_CMC\n",
      "HandLandmark.THUMB_MCP\n",
      "HandLandmark.THUMB_IP\n",
      "HandLandmark.THUMB_TIP\n",
      "HandLandmark.INDEX_FINGER_MCP\n",
      "HandLandmark.INDEX_FINGER_PIP\n",
      "HandLandmark.INDEX_FINGER_DIP\n",
      "HandLandmark.INDEX_FINGER_TIP\n",
      "HandLandmark.MIDDLE_FINGER_MCP\n",
      "HandLandmark.MIDDLE_FINGER_PIP\n",
      "HandLandmark.MIDDLE_FINGER_DIP\n",
      "HandLandmark.MIDDLE_FINGER_TIP\n",
      "HandLandmark.RING_FINGER_MCP\n",
      "HandLandmark.RING_FINGER_PIP\n",
      "HandLandmark.RING_FINGER_DIP\n",
      "HandLandmark.RING_FINGER_TIP\n",
      "HandLandmark.PINKY_MCP\n",
      "HandLandmark.PINKY_PIP\n",
      "HandLandmark.PINKY_DIP\n",
      "HandLandmark.PINKY_TIP\n"
     ]
    }
   ],
   "source": [
    "for i in mp_hands.HandLandmark:\n",
    "    print(i)"
   ]
  },
  {
   "cell_type": "code",
   "execution_count": 8,
   "id": "ce88d95a",
   "metadata": {},
   "outputs": [],
   "source": [
    "mp_hands.HAND_CONNECTIONS??"
   ]
  },
  {
   "cell_type": "code",
   "execution_count": null,
   "id": "52146fd9",
   "metadata": {},
   "outputs": [],
   "source": []
  }
 ],
 "metadata": {
  "kernelspec": {
   "display_name": "Python 3 (ipykernel)",
   "language": "python",
   "name": "python3"
  },
  "language_info": {
   "codemirror_mode": {
    "name": "ipython",
    "version": 3
   },
   "file_extension": ".py",
   "mimetype": "text/x-python",
   "name": "python",
   "nbconvert_exporter": "python",
   "pygments_lexer": "ipython3",
   "version": "3.8.10"
  }
 },
 "nbformat": 4,
 "nbformat_minor": 5
}
